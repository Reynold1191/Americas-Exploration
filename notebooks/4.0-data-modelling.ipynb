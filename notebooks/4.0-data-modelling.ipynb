{
 "cells": [
  {
   "cell_type": "markdown",
   "metadata": {},
   "source": [
    "<div style=\"text-align: center; background-color: #559cff; font-family: 'Trebuchet MS', Arial, sans-serif; color: white; padding: 20px; font-size: 40px; font-weight: bold; border-radius: 0 0 0 0; box-shadow: 0px 6px 8px rgba(0, 0, 0, 0.2);\">\n",
    "  Lab 02 - Introduction To Data Science @ FIT-HCMUS, VNU-HCM 📌\n",
    "</div>"
   ]
  },
  {
   "cell_type": "markdown",
   "metadata": {},
   "source": [
    "<div style=\"text-align: center; background-color: #b1d1ff; font-family: 'Trebuchet MS', Arial, sans-serif; color: white; padding: 20px; font-size: 40px; font-weight: bold; border-radius: 0 0 0 0; box-shadow: 0px 6px 8px rgba(0, 0, 0, 0.2);\">\n",
    "  Stage 4.0 - Data modelling\n",
    "</div>"
   ]
  },
  {
   "cell_type": "markdown",
   "metadata": {},
   "source": [
    "This section for bouns, you might need to use some basic Machine Learning algorithms to answer some questions that in cases of regression, and classification. In this scope of this subject, highly recommend you use `scikit-learn` (instead of implement once again these algorithms)"
   ]
  },
  {
   "cell_type": "markdown",
   "metadata": {},
   "source": [
    "<font color=lightgreen>**Context**</font>: In this section, OLS Linear Regression is chosen for machine learning\n",
    "\n",
    "<font color=lightgreen>**Question**</font>: Training a model to predict GDP in specific country\n",
    "\n",
    "<font color=lightgreen>**Overall**</font>: We will train 02 model and compare its MAE"
   ]
  },
  {
   "cell_type": "markdown",
   "metadata": {},
   "source": [
    "## Import"
   ]
  },
  {
   "cell_type": "code",
   "execution_count": 1,
   "metadata": {},
   "outputs": [],
   "source": [
    "# YOUR CODE HERE (OPTION) \n",
    "# If you need other libraries, you can import them here\n",
    "import numpy as np\n",
    "import pandas as pd\n",
    "from sklearn.linear_model import LinearRegression\n",
    "from sklearn.model_selection import train_test_split\n",
    "from sklearn.feature_selection import SelectKBest, mutual_info_regression\n",
    "from sklearn.feature_selection import f_regression\n",
    "import matplotlib.pyplot as plt\n",
    "from sklearn.pipeline import Pipeline\n",
    "from sklearn.tree import DecisionTreeRegressor\n",
    "from sklearn.metrics import confusion_matrix\n",
    "from sklearn.metrics import accuracy_score\n",
    "from sklearn.model_selection import KFold\n",
    "from sklearn.model_selection import GridSearchCV, RepeatedKFold\n",
    "from sklearn.metrics import mean_absolute_error\n",
    "from sklearn.model_selection import cross_val_score\n",
    "from numpy import mean\n",
    "from numpy import absolute"
   ]
  },
  {
   "cell_type": "markdown",
   "metadata": {},
   "source": [
    "## Data preparation"
   ]
  },
  {
   "cell_type": "markdown",
   "metadata": {},
   "source": [
    "Firstly, we will drop 02 columns (year and country) as well as drop \"GDP in USD\" column for y (prediction)"
   ]
  },
  {
   "cell_type": "code",
   "execution_count": 2,
   "metadata": {},
   "outputs": [],
   "source": [
    "# YOUR CODE HERE (OPTION) \n",
    "ori_data = pd.read_csv(\"../data/processed/21127743_americas_processed.csv\")\n",
    "copy_data = ori_data.copy()"
   ]
  },
  {
   "cell_type": "code",
   "execution_count": 3,
   "metadata": {},
   "outputs": [
    {
     "data": {
      "text/html": [
       "<div>\n",
       "<style scoped>\n",
       "    .dataframe tbody tr th:only-of-type {\n",
       "        vertical-align: middle;\n",
       "    }\n",
       "\n",
       "    .dataframe tbody tr th {\n",
       "        vertical-align: top;\n",
       "    }\n",
       "\n",
       "    .dataframe thead th {\n",
       "        text-align: right;\n",
       "    }\n",
       "</style>\n",
       "<table border=\"1\" class=\"dataframe\">\n",
       "  <thead>\n",
       "    <tr style=\"text-align: right;\">\n",
       "      <th></th>\n",
       "      <th>Total Population</th>\n",
       "      <th>Female Population</th>\n",
       "      <th>Male Population</th>\n",
       "      <th>Birth Rate</th>\n",
       "      <th>Death Rate</th>\n",
       "      <th>Compulsory Education Dur.</th>\n",
       "      <th>Employment in Industry(%)</th>\n",
       "      <th>Employment in Agriculture(%)</th>\n",
       "      <th>Female Employment in Agriculture(%)</th>\n",
       "      <th>Female Employment in Industry(%)</th>\n",
       "      <th>...</th>\n",
       "      <th>Fossil Fuel Consumption (%)</th>\n",
       "      <th>Male life expectancy</th>\n",
       "      <th>Female life expectancy</th>\n",
       "      <th>School enrollment, primary</th>\n",
       "      <th>School enrollment, tertiary</th>\n",
       "      <th>Primary completion rate</th>\n",
       "      <th>Literacy rate</th>\n",
       "      <th>Year</th>\n",
       "      <th>Country</th>\n",
       "      <th>GDP in USD</th>\n",
       "    </tr>\n",
       "  </thead>\n",
       "  <tbody>\n",
       "    <tr>\n",
       "      <th>0</th>\n",
       "      <td>93763.0</td>\n",
       "      <td>48981.0</td>\n",
       "      <td>44782.0</td>\n",
       "      <td>18.184992</td>\n",
       "      <td>6.828165</td>\n",
       "      <td>11.000000</td>\n",
       "      <td>20.153997</td>\n",
       "      <td>17.004881</td>\n",
       "      <td>8.655858</td>\n",
       "      <td>11.81121</td>\n",
       "      <td>...</td>\n",
       "      <td>63.452255</td>\n",
       "      <td>70.19852</td>\n",
       "      <td>76.07276</td>\n",
       "      <td>106.128710</td>\n",
       "      <td>39.528947</td>\n",
       "      <td>95.522408</td>\n",
       "      <td>97.105964</td>\n",
       "      <td>2022</td>\n",
       "      <td>Antigua and Barbuda</td>\n",
       "      <td>1.757604e+09</td>\n",
       "    </tr>\n",
       "    <tr>\n",
       "      <th>1</th>\n",
       "      <td>93219.0</td>\n",
       "      <td>48708.0</td>\n",
       "      <td>44511.0</td>\n",
       "      <td>12.115000</td>\n",
       "      <td>6.365000</td>\n",
       "      <td>11.000000</td>\n",
       "      <td>20.153997</td>\n",
       "      <td>17.004881</td>\n",
       "      <td>8.655858</td>\n",
       "      <td>11.81121</td>\n",
       "      <td>...</td>\n",
       "      <td>63.452255</td>\n",
       "      <td>75.77500</td>\n",
       "      <td>80.94100</td>\n",
       "      <td>106.128710</td>\n",
       "      <td>39.528947</td>\n",
       "      <td>95.522408</td>\n",
       "      <td>97.105964</td>\n",
       "      <td>2021</td>\n",
       "      <td>Antigua and Barbuda</td>\n",
       "      <td>1.560519e+09</td>\n",
       "    </tr>\n",
       "    <tr>\n",
       "      <th>2</th>\n",
       "      <td>92664.0</td>\n",
       "      <td>48428.0</td>\n",
       "      <td>44236.0</td>\n",
       "      <td>12.160000</td>\n",
       "      <td>5.961000</td>\n",
       "      <td>11.000000</td>\n",
       "      <td>20.153997</td>\n",
       "      <td>17.004881</td>\n",
       "      <td>8.655858</td>\n",
       "      <td>11.81121</td>\n",
       "      <td>...</td>\n",
       "      <td>63.452255</td>\n",
       "      <td>76.06100</td>\n",
       "      <td>81.31600</td>\n",
       "      <td>106.128710</td>\n",
       "      <td>39.528947</td>\n",
       "      <td>95.522408</td>\n",
       "      <td>97.105964</td>\n",
       "      <td>2020</td>\n",
       "      <td>Antigua and Barbuda</td>\n",
       "      <td>1.416348e+09</td>\n",
       "    </tr>\n",
       "    <tr>\n",
       "      <th>3</th>\n",
       "      <td>92117.0</td>\n",
       "      <td>48156.0</td>\n",
       "      <td>43961.0</td>\n",
       "      <td>11.485000</td>\n",
       "      <td>5.865000</td>\n",
       "      <td>11.000000</td>\n",
       "      <td>20.153997</td>\n",
       "      <td>17.004881</td>\n",
       "      <td>8.655858</td>\n",
       "      <td>11.81121</td>\n",
       "      <td>...</td>\n",
       "      <td>63.452255</td>\n",
       "      <td>75.90900</td>\n",
       "      <td>81.17100</td>\n",
       "      <td>112.122238</td>\n",
       "      <td>39.528947</td>\n",
       "      <td>104.976669</td>\n",
       "      <td>97.105964</td>\n",
       "      <td>2019</td>\n",
       "      <td>Antigua and Barbuda</td>\n",
       "      <td>1.675404e+09</td>\n",
       "    </tr>\n",
       "    <tr>\n",
       "      <th>4</th>\n",
       "      <td>91626.0</td>\n",
       "      <td>47911.0</td>\n",
       "      <td>43715.0</td>\n",
       "      <td>10.816000</td>\n",
       "      <td>5.787000</td>\n",
       "      <td>11.000000</td>\n",
       "      <td>20.153997</td>\n",
       "      <td>17.004881</td>\n",
       "      <td>8.655858</td>\n",
       "      <td>11.81121</td>\n",
       "      <td>...</td>\n",
       "      <td>63.452255</td>\n",
       "      <td>75.72400</td>\n",
       "      <td>81.00000</td>\n",
       "      <td>112.091682</td>\n",
       "      <td>39.528947</td>\n",
       "      <td>104.444443</td>\n",
       "      <td>97.105964</td>\n",
       "      <td>2018</td>\n",
       "      <td>Antigua and Barbuda</td>\n",
       "      <td>1.604770e+09</td>\n",
       "    </tr>\n",
       "    <tr>\n",
       "      <th>...</th>\n",
       "      <td>...</td>\n",
       "      <td>...</td>\n",
       "      <td>...</td>\n",
       "      <td>...</td>\n",
       "      <td>...</td>\n",
       "      <td>...</td>\n",
       "      <td>...</td>\n",
       "      <td>...</td>\n",
       "      <td>...</td>\n",
       "      <td>...</td>\n",
       "      <td>...</td>\n",
       "      <td>...</td>\n",
       "      <td>...</td>\n",
       "      <td>...</td>\n",
       "      <td>...</td>\n",
       "      <td>...</td>\n",
       "      <td>...</td>\n",
       "      <td>...</td>\n",
       "      <td>...</td>\n",
       "      <td>...</td>\n",
       "      <td>...</td>\n",
       "    </tr>\n",
       "    <tr>\n",
       "      <th>1199</th>\n",
       "      <td>108599.0</td>\n",
       "      <td>56628.0</td>\n",
       "      <td>51971.0</td>\n",
       "      <td>16.100000</td>\n",
       "      <td>5.300000</td>\n",
       "      <td>10.879921</td>\n",
       "      <td>24.166380</td>\n",
       "      <td>2.857765</td>\n",
       "      <td>0.980793</td>\n",
       "      <td>11.65202</td>\n",
       "      <td>...</td>\n",
       "      <td>63.452255</td>\n",
       "      <td>68.51100</td>\n",
       "      <td>76.06700</td>\n",
       "      <td>106.128710</td>\n",
       "      <td>39.528947</td>\n",
       "      <td>95.522408</td>\n",
       "      <td>97.105964</td>\n",
       "      <td>1999</td>\n",
       "      <td>Virgin Islands (U.S.)</td>\n",
       "      <td>5.000622e+11</td>\n",
       "    </tr>\n",
       "    <tr>\n",
       "      <th>1200</th>\n",
       "      <td>108537.0</td>\n",
       "      <td>56489.0</td>\n",
       "      <td>52048.0</td>\n",
       "      <td>18.000000</td>\n",
       "      <td>5.000000</td>\n",
       "      <td>10.879921</td>\n",
       "      <td>24.426560</td>\n",
       "      <td>2.927030</td>\n",
       "      <td>1.013270</td>\n",
       "      <td>11.84035</td>\n",
       "      <td>...</td>\n",
       "      <td>63.452255</td>\n",
       "      <td>68.63900</td>\n",
       "      <td>76.19700</td>\n",
       "      <td>106.128710</td>\n",
       "      <td>39.528947</td>\n",
       "      <td>95.522408</td>\n",
       "      <td>97.105964</td>\n",
       "      <td>1998</td>\n",
       "      <td>Virgin Islands (U.S.)</td>\n",
       "      <td>5.000622e+11</td>\n",
       "    </tr>\n",
       "    <tr>\n",
       "      <th>1201</th>\n",
       "      <td>108357.0</td>\n",
       "      <td>56287.0</td>\n",
       "      <td>52070.0</td>\n",
       "      <td>17.200000</td>\n",
       "      <td>5.300000</td>\n",
       "      <td>10.879921</td>\n",
       "      <td>24.669030</td>\n",
       "      <td>2.990334</td>\n",
       "      <td>1.044605</td>\n",
       "      <td>12.05474</td>\n",
       "      <td>...</td>\n",
       "      <td>63.452255</td>\n",
       "      <td>68.39500</td>\n",
       "      <td>76.20200</td>\n",
       "      <td>106.128710</td>\n",
       "      <td>39.528947</td>\n",
       "      <td>95.522408</td>\n",
       "      <td>97.105964</td>\n",
       "      <td>1997</td>\n",
       "      <td>Virgin Islands (U.S.)</td>\n",
       "      <td>5.000622e+11</td>\n",
       "    </tr>\n",
       "    <tr>\n",
       "      <th>1202</th>\n",
       "      <td>108095.0</td>\n",
       "      <td>56048.0</td>\n",
       "      <td>52047.0</td>\n",
       "      <td>17.600000</td>\n",
       "      <td>5.200000</td>\n",
       "      <td>10.879921</td>\n",
       "      <td>24.836600</td>\n",
       "      <td>3.050109</td>\n",
       "      <td>1.073212</td>\n",
       "      <td>12.23037</td>\n",
       "      <td>...</td>\n",
       "      <td>63.452255</td>\n",
       "      <td>68.88000</td>\n",
       "      <td>76.07000</td>\n",
       "      <td>106.128710</td>\n",
       "      <td>39.528947</td>\n",
       "      <td>95.522408</td>\n",
       "      <td>97.105964</td>\n",
       "      <td>1996</td>\n",
       "      <td>Virgin Islands (U.S.)</td>\n",
       "      <td>5.000622e+11</td>\n",
       "    </tr>\n",
       "    <tr>\n",
       "      <th>1203</th>\n",
       "      <td>107818.0</td>\n",
       "      <td>55803.0</td>\n",
       "      <td>52015.0</td>\n",
       "      <td>18.700000</td>\n",
       "      <td>5.025000</td>\n",
       "      <td>10.879921</td>\n",
       "      <td>25.019570</td>\n",
       "      <td>3.100463</td>\n",
       "      <td>1.102250</td>\n",
       "      <td>12.43460</td>\n",
       "      <td>...</td>\n",
       "      <td>63.452255</td>\n",
       "      <td>68.60900</td>\n",
       "      <td>75.58100</td>\n",
       "      <td>106.128710</td>\n",
       "      <td>39.528947</td>\n",
       "      <td>95.522408</td>\n",
       "      <td>97.105964</td>\n",
       "      <td>1995</td>\n",
       "      <td>Virgin Islands (U.S.)</td>\n",
       "      <td>5.000622e+11</td>\n",
       "    </tr>\n",
       "  </tbody>\n",
       "</table>\n",
       "<p>1204 rows × 26 columns</p>\n",
       "</div>"
      ],
      "text/plain": [
       "      Total Population  Female Population  Male Population  Birth Rate  \\\n",
       "0              93763.0            48981.0          44782.0   18.184992   \n",
       "1              93219.0            48708.0          44511.0   12.115000   \n",
       "2              92664.0            48428.0          44236.0   12.160000   \n",
       "3              92117.0            48156.0          43961.0   11.485000   \n",
       "4              91626.0            47911.0          43715.0   10.816000   \n",
       "...                ...                ...              ...         ...   \n",
       "1199          108599.0            56628.0          51971.0   16.100000   \n",
       "1200          108537.0            56489.0          52048.0   18.000000   \n",
       "1201          108357.0            56287.0          52070.0   17.200000   \n",
       "1202          108095.0            56048.0          52047.0   17.600000   \n",
       "1203          107818.0            55803.0          52015.0   18.700000   \n",
       "\n",
       "      Death Rate  Compulsory Education Dur.  Employment in Industry(%)  \\\n",
       "0       6.828165                  11.000000                  20.153997   \n",
       "1       6.365000                  11.000000                  20.153997   \n",
       "2       5.961000                  11.000000                  20.153997   \n",
       "3       5.865000                  11.000000                  20.153997   \n",
       "4       5.787000                  11.000000                  20.153997   \n",
       "...          ...                        ...                        ...   \n",
       "1199    5.300000                  10.879921                  24.166380   \n",
       "1200    5.000000                  10.879921                  24.426560   \n",
       "1201    5.300000                  10.879921                  24.669030   \n",
       "1202    5.200000                  10.879921                  24.836600   \n",
       "1203    5.025000                  10.879921                  25.019570   \n",
       "\n",
       "      Employment in Agriculture(%)  Female Employment in Agriculture(%)  \\\n",
       "0                        17.004881                             8.655858   \n",
       "1                        17.004881                             8.655858   \n",
       "2                        17.004881                             8.655858   \n",
       "3                        17.004881                             8.655858   \n",
       "4                        17.004881                             8.655858   \n",
       "...                            ...                                  ...   \n",
       "1199                      2.857765                             0.980793   \n",
       "1200                      2.927030                             1.013270   \n",
       "1201                      2.990334                             1.044605   \n",
       "1202                      3.050109                             1.073212   \n",
       "1203                      3.100463                             1.102250   \n",
       "\n",
       "      Female Employment in Industry(%)  ...  Fossil Fuel Consumption (%)  \\\n",
       "0                             11.81121  ...                    63.452255   \n",
       "1                             11.81121  ...                    63.452255   \n",
       "2                             11.81121  ...                    63.452255   \n",
       "3                             11.81121  ...                    63.452255   \n",
       "4                             11.81121  ...                    63.452255   \n",
       "...                                ...  ...                          ...   \n",
       "1199                          11.65202  ...                    63.452255   \n",
       "1200                          11.84035  ...                    63.452255   \n",
       "1201                          12.05474  ...                    63.452255   \n",
       "1202                          12.23037  ...                    63.452255   \n",
       "1203                          12.43460  ...                    63.452255   \n",
       "\n",
       "      Male life expectancy  Female life expectancy   \\\n",
       "0                 70.19852                 76.07276   \n",
       "1                 75.77500                 80.94100   \n",
       "2                 76.06100                 81.31600   \n",
       "3                 75.90900                 81.17100   \n",
       "4                 75.72400                 81.00000   \n",
       "...                    ...                      ...   \n",
       "1199              68.51100                 76.06700   \n",
       "1200              68.63900                 76.19700   \n",
       "1201              68.39500                 76.20200   \n",
       "1202              68.88000                 76.07000   \n",
       "1203              68.60900                 75.58100   \n",
       "\n",
       "      School enrollment, primary  School enrollment, tertiary  \\\n",
       "0                     106.128710                    39.528947   \n",
       "1                     106.128710                    39.528947   \n",
       "2                     106.128710                    39.528947   \n",
       "3                     112.122238                    39.528947   \n",
       "4                     112.091682                    39.528947   \n",
       "...                          ...                          ...   \n",
       "1199                  106.128710                    39.528947   \n",
       "1200                  106.128710                    39.528947   \n",
       "1201                  106.128710                    39.528947   \n",
       "1202                  106.128710                    39.528947   \n",
       "1203                  106.128710                    39.528947   \n",
       "\n",
       "      Primary completion rate  Literacy rate  Year                Country  \\\n",
       "0                   95.522408      97.105964  2022    Antigua and Barbuda   \n",
       "1                   95.522408      97.105964  2021    Antigua and Barbuda   \n",
       "2                   95.522408      97.105964  2020    Antigua and Barbuda   \n",
       "3                  104.976669      97.105964  2019    Antigua and Barbuda   \n",
       "4                  104.444443      97.105964  2018    Antigua and Barbuda   \n",
       "...                       ...            ...   ...                    ...   \n",
       "1199                95.522408      97.105964  1999  Virgin Islands (U.S.)   \n",
       "1200                95.522408      97.105964  1998  Virgin Islands (U.S.)   \n",
       "1201                95.522408      97.105964  1997  Virgin Islands (U.S.)   \n",
       "1202                95.522408      97.105964  1996  Virgin Islands (U.S.)   \n",
       "1203                95.522408      97.105964  1995  Virgin Islands (U.S.)   \n",
       "\n",
       "        GDP in USD  \n",
       "0     1.757604e+09  \n",
       "1     1.560519e+09  \n",
       "2     1.416348e+09  \n",
       "3     1.675404e+09  \n",
       "4     1.604770e+09  \n",
       "...            ...  \n",
       "1199  5.000622e+11  \n",
       "1200  5.000622e+11  \n",
       "1201  5.000622e+11  \n",
       "1202  5.000622e+11  \n",
       "1203  5.000622e+11  \n",
       "\n",
       "[1204 rows x 26 columns]"
      ]
     },
     "execution_count": 3,
     "metadata": {},
     "output_type": "execute_result"
    }
   ],
   "source": [
    "cols_at_end = ['GDP in USD']\n",
    "copy_data = copy_data[[c for c in copy_data if c not in cols_at_end] \n",
    "        + [c for c in cols_at_end if c in copy_data]]\n",
    "\n",
    "copy_data"
   ]
  },
  {
   "cell_type": "code",
   "execution_count": 4,
   "metadata": {},
   "outputs": [
    {
     "data": {
      "text/plain": [
       "0       1.757604e+09\n",
       "1       1.560519e+09\n",
       "2       1.416348e+09\n",
       "3       1.675404e+09\n",
       "4       1.604770e+09\n",
       "            ...     \n",
       "1199    5.000622e+11\n",
       "1200    5.000622e+11\n",
       "1201    5.000622e+11\n",
       "1202    5.000622e+11\n",
       "1203    5.000622e+11\n",
       "Name: GDP in USD, Length: 1204, dtype: float64"
      ]
     },
     "execution_count": 4,
     "metadata": {},
     "output_type": "execute_result"
    }
   ],
   "source": [
    "y = copy_data[\"GDP in USD\"]\n",
    "y"
   ]
  },
  {
   "cell_type": "code",
   "execution_count": 5,
   "metadata": {},
   "outputs": [],
   "source": [
    "copy_data.drop([\"Year\", \"Country\" ,\"GDP in USD\"], inplace=True, axis='columns')\n",
    "copy_data\n",
    "X = copy_data"
   ]
  },
  {
   "cell_type": "markdown",
   "metadata": {},
   "source": [
    "Secondly, we will spilt it into 02 data sets (train and test)"
   ]
  },
  {
   "cell_type": "code",
   "execution_count": 6,
   "metadata": {},
   "outputs": [],
   "source": [
    "X_train, X_test, y_train, y_test = train_test_split(X, y,test_size=0.2)\n"
   ]
  },
  {
   "cell_type": "code",
   "execution_count": 7,
   "metadata": {},
   "outputs": [
    {
     "data": {
      "text/html": [
       "<div>\n",
       "<style scoped>\n",
       "    .dataframe tbody tr th:only-of-type {\n",
       "        vertical-align: middle;\n",
       "    }\n",
       "\n",
       "    .dataframe tbody tr th {\n",
       "        vertical-align: top;\n",
       "    }\n",
       "\n",
       "    .dataframe thead th {\n",
       "        text-align: right;\n",
       "    }\n",
       "</style>\n",
       "<table border=\"1\" class=\"dataframe\">\n",
       "  <thead>\n",
       "    <tr style=\"text-align: right;\">\n",
       "      <th></th>\n",
       "      <th>Total Population</th>\n",
       "      <th>Female Population</th>\n",
       "      <th>Male Population</th>\n",
       "      <th>Birth Rate</th>\n",
       "      <th>Death Rate</th>\n",
       "      <th>Compulsory Education Dur.</th>\n",
       "      <th>Employment in Industry(%)</th>\n",
       "      <th>Employment in Agriculture(%)</th>\n",
       "      <th>Female Employment in Agriculture(%)</th>\n",
       "      <th>Female Employment in Industry(%)</th>\n",
       "      <th>...</th>\n",
       "      <th>Agriculture value added(in USD)</th>\n",
       "      <th>Electric Power Consumption(kWH per capita)</th>\n",
       "      <th>Renewable Energy Consumption (%)</th>\n",
       "      <th>Fossil Fuel Consumption (%)</th>\n",
       "      <th>Male life expectancy</th>\n",
       "      <th>Female life expectancy</th>\n",
       "      <th>School enrollment, primary</th>\n",
       "      <th>School enrollment, tertiary</th>\n",
       "      <th>Primary completion rate</th>\n",
       "      <th>Literacy rate</th>\n",
       "    </tr>\n",
       "  </thead>\n",
       "  <tbody>\n",
       "    <tr>\n",
       "      <th>873</th>\n",
       "      <td>31605486.0</td>\n",
       "      <td>15939421.0</td>\n",
       "      <td>15666065.0</td>\n",
       "      <td>18.269</td>\n",
       "      <td>6.173</td>\n",
       "      <td>14.0</td>\n",
       "      <td>16.415590</td>\n",
       "      <td>26.195840</td>\n",
       "      <td>23.961550</td>\n",
       "      <td>9.353666</td>\n",
       "      <td>...</td>\n",
       "      <td>1.430583e+10</td>\n",
       "      <td>2620.246216</td>\n",
       "      <td>27.59</td>\n",
       "      <td>63.452255</td>\n",
       "      <td>73.729</td>\n",
       "      <td>78.100</td>\n",
       "      <td>98.021492</td>\n",
       "      <td>71.246552</td>\n",
       "      <td>92.080360</td>\n",
       "      <td>99.080002</td>\n",
       "    </tr>\n",
       "    <tr>\n",
       "      <th>1010</th>\n",
       "      <td>607065.0</td>\n",
       "      <td>304409.0</td>\n",
       "      <td>302656.0</td>\n",
       "      <td>18.279</td>\n",
       "      <td>7.036</td>\n",
       "      <td>6.0</td>\n",
       "      <td>26.259210</td>\n",
       "      <td>8.040625</td>\n",
       "      <td>6.378193</td>\n",
       "      <td>11.743140</td>\n",
       "      <td>...</td>\n",
       "      <td>2.369055e+08</td>\n",
       "      <td>2620.246216</td>\n",
       "      <td>14.66</td>\n",
       "      <td>63.452255</td>\n",
       "      <td>69.264</td>\n",
       "      <td>75.981</td>\n",
       "      <td>104.956444</td>\n",
       "      <td>39.528947</td>\n",
       "      <td>85.586990</td>\n",
       "      <td>97.105964</td>\n",
       "    </tr>\n",
       "    <tr>\n",
       "      <th>590</th>\n",
       "      <td>123663.0</td>\n",
       "      <td>61747.0</td>\n",
       "      <td>61916.0</td>\n",
       "      <td>16.288</td>\n",
       "      <td>8.061</td>\n",
       "      <td>12.0</td>\n",
       "      <td>20.153997</td>\n",
       "      <td>17.004881</td>\n",
       "      <td>8.655858</td>\n",
       "      <td>11.811210</td>\n",
       "      <td>...</td>\n",
       "      <td>5.115926e+07</td>\n",
       "      <td>2620.246216</td>\n",
       "      <td>10.36</td>\n",
       "      <td>63.452255</td>\n",
       "      <td>72.208</td>\n",
       "      <td>77.869</td>\n",
       "      <td>106.128710</td>\n",
       "      <td>39.528947</td>\n",
       "      <td>95.522408</td>\n",
       "      <td>97.105964</td>\n",
       "    </tr>\n",
       "    <tr>\n",
       "      <th>129</th>\n",
       "      <td>269477.0</td>\n",
       "      <td>140649.0</td>\n",
       "      <td>128828.0</td>\n",
       "      <td>13.371</td>\n",
       "      <td>9.218</td>\n",
       "      <td>11.0</td>\n",
       "      <td>17.002390</td>\n",
       "      <td>2.378941</td>\n",
       "      <td>1.709902</td>\n",
       "      <td>7.423440</td>\n",
       "      <td>...</td>\n",
       "      <td>6.060000e+07</td>\n",
       "      <td>2620.246216</td>\n",
       "      <td>6.38</td>\n",
       "      <td>0.000000</td>\n",
       "      <td>72.652</td>\n",
       "      <td>76.942</td>\n",
       "      <td>100.565002</td>\n",
       "      <td>39.528947</td>\n",
       "      <td>99.589943</td>\n",
       "      <td>97.105964</td>\n",
       "    </tr>\n",
       "    <tr>\n",
       "      <th>414</th>\n",
       "      <td>3979193.0</td>\n",
       "      <td>1976588.0</td>\n",
       "      <td>2002605.0</td>\n",
       "      <td>19.788</td>\n",
       "      <td>3.995</td>\n",
       "      <td>11.0</td>\n",
       "      <td>22.414010</td>\n",
       "      <td>16.246630</td>\n",
       "      <td>3.731019</td>\n",
       "      <td>16.367720</td>\n",
       "      <td>...</td>\n",
       "      <td>1.388584e+09</td>\n",
       "      <td>1500.555515</td>\n",
       "      <td>32.95</td>\n",
       "      <td>59.027159</td>\n",
       "      <td>75.252</td>\n",
       "      <td>80.038</td>\n",
       "      <td>109.770493</td>\n",
       "      <td>39.528947</td>\n",
       "      <td>88.695938</td>\n",
       "      <td>97.614700</td>\n",
       "    </tr>\n",
       "  </tbody>\n",
       "</table>\n",
       "<p>5 rows × 23 columns</p>\n",
       "</div>"
      ],
      "text/plain": [
       "      Total Population  Female Population  Male Population  Birth Rate  \\\n",
       "873         31605486.0         15939421.0       15666065.0      18.269   \n",
       "1010          607065.0           304409.0         302656.0      18.279   \n",
       "590           123663.0            61747.0          61916.0      16.288   \n",
       "129           269477.0           140649.0         128828.0      13.371   \n",
       "414          3979193.0          1976588.0        2002605.0      19.788   \n",
       "\n",
       "      Death Rate  Compulsory Education Dur.  Employment in Industry(%)  \\\n",
       "873        6.173                       14.0                  16.415590   \n",
       "1010       7.036                        6.0                  26.259210   \n",
       "590        8.061                       12.0                  20.153997   \n",
       "129        9.218                       11.0                  17.002390   \n",
       "414        3.995                       11.0                  22.414010   \n",
       "\n",
       "      Employment in Agriculture(%)  Female Employment in Agriculture(%)  \\\n",
       "873                      26.195840                            23.961550   \n",
       "1010                      8.040625                             6.378193   \n",
       "590                      17.004881                             8.655858   \n",
       "129                       2.378941                             1.709902   \n",
       "414                      16.246630                             3.731019   \n",
       "\n",
       "      Female Employment in Industry(%)  ...  Agriculture value added(in USD)  \\\n",
       "873                           9.353666  ...                     1.430583e+10   \n",
       "1010                         11.743140  ...                     2.369055e+08   \n",
       "590                          11.811210  ...                     5.115926e+07   \n",
       "129                           7.423440  ...                     6.060000e+07   \n",
       "414                          16.367720  ...                     1.388584e+09   \n",
       "\n",
       "      Electric Power Consumption(kWH per capita)  \\\n",
       "873                                  2620.246216   \n",
       "1010                                 2620.246216   \n",
       "590                                  2620.246216   \n",
       "129                                  2620.246216   \n",
       "414                                  1500.555515   \n",
       "\n",
       "      Renewable Energy Consumption (%)  Fossil Fuel Consumption (%)  \\\n",
       "873                              27.59                    63.452255   \n",
       "1010                             14.66                    63.452255   \n",
       "590                              10.36                    63.452255   \n",
       "129                               6.38                     0.000000   \n",
       "414                              32.95                    59.027159   \n",
       "\n",
       "      Male life expectancy  Female life expectancy   \\\n",
       "873                 73.729                   78.100   \n",
       "1010                69.264                   75.981   \n",
       "590                 72.208                   77.869   \n",
       "129                 72.652                   76.942   \n",
       "414                 75.252                   80.038   \n",
       "\n",
       "      School enrollment, primary  School enrollment, tertiary  \\\n",
       "873                    98.021492                    71.246552   \n",
       "1010                  104.956444                    39.528947   \n",
       "590                   106.128710                    39.528947   \n",
       "129                   100.565002                    39.528947   \n",
       "414                   109.770493                    39.528947   \n",
       "\n",
       "      Primary completion rate  Literacy rate  \n",
       "873                 92.080360      99.080002  \n",
       "1010                85.586990      97.105964  \n",
       "590                 95.522408      97.105964  \n",
       "129                 99.589943      97.105964  \n",
       "414                 88.695938      97.614700  \n",
       "\n",
       "[5 rows x 23 columns]"
      ]
     },
     "execution_count": 7,
     "metadata": {},
     "output_type": "execute_result"
    }
   ],
   "source": [
    "X_train.head()"
   ]
  },
  {
   "cell_type": "code",
   "execution_count": 8,
   "metadata": {},
   "outputs": [
    {
     "data": {
      "text/plain": [
       "873     2.110080e+11\n",
       "1010    2.911807e+09\n",
       "590     1.043411e+09\n",
       "129     3.819500e+09\n",
       "414     1.501363e+10\n",
       "Name: GDP in USD, dtype: float64"
      ]
     },
     "execution_count": 8,
     "metadata": {},
     "output_type": "execute_result"
    }
   ],
   "source": [
    "y_train.head()"
   ]
  },
  {
   "cell_type": "code",
   "execution_count": 9,
   "metadata": {},
   "outputs": [
    {
     "data": {
      "text/html": [
       "<div>\n",
       "<style scoped>\n",
       "    .dataframe tbody tr th:only-of-type {\n",
       "        vertical-align: middle;\n",
       "    }\n",
       "\n",
       "    .dataframe tbody tr th {\n",
       "        vertical-align: top;\n",
       "    }\n",
       "\n",
       "    .dataframe thead th {\n",
       "        text-align: right;\n",
       "    }\n",
       "</style>\n",
       "<table border=\"1\" class=\"dataframe\">\n",
       "  <thead>\n",
       "    <tr style=\"text-align: right;\">\n",
       "      <th></th>\n",
       "      <th>Total Population</th>\n",
       "      <th>Female Population</th>\n",
       "      <th>Male Population</th>\n",
       "      <th>Birth Rate</th>\n",
       "      <th>Death Rate</th>\n",
       "      <th>Compulsory Education Dur.</th>\n",
       "      <th>Employment in Industry(%)</th>\n",
       "      <th>Employment in Agriculture(%)</th>\n",
       "      <th>Female Employment in Agriculture(%)</th>\n",
       "      <th>Female Employment in Industry(%)</th>\n",
       "      <th>...</th>\n",
       "      <th>Agriculture value added(in USD)</th>\n",
       "      <th>Electric Power Consumption(kWH per capita)</th>\n",
       "      <th>Renewable Energy Consumption (%)</th>\n",
       "      <th>Fossil Fuel Consumption (%)</th>\n",
       "      <th>Male life expectancy</th>\n",
       "      <th>Female life expectancy</th>\n",
       "      <th>School enrollment, primary</th>\n",
       "      <th>School enrollment, tertiary</th>\n",
       "      <th>Primary completion rate</th>\n",
       "      <th>Literacy rate</th>\n",
       "    </tr>\n",
       "  </thead>\n",
       "  <tbody>\n",
       "    <tr>\n",
       "      <th>1100</th>\n",
       "      <td>318386329.0</td>\n",
       "      <td>161084758.0</td>\n",
       "      <td>157301571.0</td>\n",
       "      <td>12.500</td>\n",
       "      <td>8.237</td>\n",
       "      <td>12.000000</td>\n",
       "      <td>19.70807</td>\n",
       "      <td>1.661639</td>\n",
       "      <td>0.888076</td>\n",
       "      <td>8.714112</td>\n",
       "      <td>...</td>\n",
       "      <td>2.057054e+11</td>\n",
       "      <td>12993.965579</td>\n",
       "      <td>9.22</td>\n",
       "      <td>83.089042</td>\n",
       "      <td>76.500</td>\n",
       "      <td>81.300</td>\n",
       "      <td>99.673378</td>\n",
       "      <td>88.626869</td>\n",
       "      <td>95.522408</td>\n",
       "      <td>97.105964</td>\n",
       "    </tr>\n",
       "    <tr>\n",
       "      <th>1041</th>\n",
       "      <td>1478607.0</td>\n",
       "      <td>750563.0</td>\n",
       "      <td>728044.0</td>\n",
       "      <td>12.909</td>\n",
       "      <td>7.386</td>\n",
       "      <td>7.000000</td>\n",
       "      <td>26.79905</td>\n",
       "      <td>3.202384</td>\n",
       "      <td>1.519892</td>\n",
       "      <td>12.419770</td>\n",
       "      <td>...</td>\n",
       "      <td>2.798081e+08</td>\n",
       "      <td>2620.246216</td>\n",
       "      <td>0.42</td>\n",
       "      <td>63.452255</td>\n",
       "      <td>70.782</td>\n",
       "      <td>77.694</td>\n",
       "      <td>106.128710</td>\n",
       "      <td>39.528947</td>\n",
       "      <td>95.522408</td>\n",
       "      <td>97.105964</td>\n",
       "    </tr>\n",
       "    <tr>\n",
       "      <th>974</th>\n",
       "      <td>159500.0</td>\n",
       "      <td>80669.0</td>\n",
       "      <td>78831.0</td>\n",
       "      <td>18.514</td>\n",
       "      <td>6.980</td>\n",
       "      <td>10.000000</td>\n",
       "      <td>20.56761</td>\n",
       "      <td>21.071270</td>\n",
       "      <td>13.720240</td>\n",
       "      <td>14.925890</td>\n",
       "      <td>...</td>\n",
       "      <td>9.465944e+09</td>\n",
       "      <td>2620.246216</td>\n",
       "      <td>24.05</td>\n",
       "      <td>63.452255</td>\n",
       "      <td>68.446</td>\n",
       "      <td>73.135</td>\n",
       "      <td>104.808960</td>\n",
       "      <td>39.528947</td>\n",
       "      <td>95.522408</td>\n",
       "      <td>97.105964</td>\n",
       "    </tr>\n",
       "    <tr>\n",
       "      <th>557</th>\n",
       "      <td>5842638.0</td>\n",
       "      <td>3022117.0</td>\n",
       "      <td>2820521.0</td>\n",
       "      <td>29.413</td>\n",
       "      <td>6.140</td>\n",
       "      <td>10.879921</td>\n",
       "      <td>24.77580</td>\n",
       "      <td>25.722120</td>\n",
       "      <td>6.326770</td>\n",
       "      <td>25.545520</td>\n",
       "      <td>...</td>\n",
       "      <td>1.115654e+09</td>\n",
       "      <td>546.670870</td>\n",
       "      <td>53.01</td>\n",
       "      <td>47.653655</td>\n",
       "      <td>63.149</td>\n",
       "      <td>72.559</td>\n",
       "      <td>72.597130</td>\n",
       "      <td>39.528947</td>\n",
       "      <td>95.522408</td>\n",
       "      <td>97.105964</td>\n",
       "    </tr>\n",
       "    <tr>\n",
       "      <th>1201</th>\n",
       "      <td>108357.0</td>\n",
       "      <td>56287.0</td>\n",
       "      <td>52070.0</td>\n",
       "      <td>17.200</td>\n",
       "      <td>5.300</td>\n",
       "      <td>10.879921</td>\n",
       "      <td>24.66903</td>\n",
       "      <td>2.990334</td>\n",
       "      <td>1.044605</td>\n",
       "      <td>12.054740</td>\n",
       "      <td>...</td>\n",
       "      <td>9.465944e+09</td>\n",
       "      <td>2620.246216</td>\n",
       "      <td>0.49</td>\n",
       "      <td>63.452255</td>\n",
       "      <td>68.395</td>\n",
       "      <td>76.202</td>\n",
       "      <td>106.128710</td>\n",
       "      <td>39.528947</td>\n",
       "      <td>95.522408</td>\n",
       "      <td>97.105964</td>\n",
       "    </tr>\n",
       "  </tbody>\n",
       "</table>\n",
       "<p>5 rows × 23 columns</p>\n",
       "</div>"
      ],
      "text/plain": [
       "      Total Population  Female Population  Male Population  Birth Rate  \\\n",
       "1100       318386329.0        161084758.0      157301571.0      12.500   \n",
       "1041         1478607.0           750563.0         728044.0      12.909   \n",
       "974           159500.0            80669.0          78831.0      18.514   \n",
       "557          5842638.0          3022117.0        2820521.0      29.413   \n",
       "1201          108357.0            56287.0          52070.0      17.200   \n",
       "\n",
       "      Death Rate  Compulsory Education Dur.  Employment in Industry(%)  \\\n",
       "1100       8.237                  12.000000                   19.70807   \n",
       "1041       7.386                   7.000000                   26.79905   \n",
       "974        6.980                  10.000000                   20.56761   \n",
       "557        6.140                  10.879921                   24.77580   \n",
       "1201       5.300                  10.879921                   24.66903   \n",
       "\n",
       "      Employment in Agriculture(%)  Female Employment in Agriculture(%)  \\\n",
       "1100                      1.661639                             0.888076   \n",
       "1041                      3.202384                             1.519892   \n",
       "974                      21.071270                            13.720240   \n",
       "557                      25.722120                             6.326770   \n",
       "1201                      2.990334                             1.044605   \n",
       "\n",
       "      Female Employment in Industry(%)  ...  Agriculture value added(in USD)  \\\n",
       "1100                          8.714112  ...                     2.057054e+11   \n",
       "1041                         12.419770  ...                     2.798081e+08   \n",
       "974                          14.925890  ...                     9.465944e+09   \n",
       "557                          25.545520  ...                     1.115654e+09   \n",
       "1201                         12.054740  ...                     9.465944e+09   \n",
       "\n",
       "      Electric Power Consumption(kWH per capita)  \\\n",
       "1100                                12993.965579   \n",
       "1041                                 2620.246216   \n",
       "974                                  2620.246216   \n",
       "557                                   546.670870   \n",
       "1201                                 2620.246216   \n",
       "\n",
       "      Renewable Energy Consumption (%)  Fossil Fuel Consumption (%)  \\\n",
       "1100                              9.22                    83.089042   \n",
       "1041                              0.42                    63.452255   \n",
       "974                              24.05                    63.452255   \n",
       "557                              53.01                    47.653655   \n",
       "1201                              0.49                    63.452255   \n",
       "\n",
       "      Male life expectancy  Female life expectancy   \\\n",
       "1100                76.500                   81.300   \n",
       "1041                70.782                   77.694   \n",
       "974                 68.446                   73.135   \n",
       "557                 63.149                   72.559   \n",
       "1201                68.395                   76.202   \n",
       "\n",
       "      School enrollment, primary  School enrollment, tertiary  \\\n",
       "1100                   99.673378                    88.626869   \n",
       "1041                  106.128710                    39.528947   \n",
       "974                   104.808960                    39.528947   \n",
       "557                    72.597130                    39.528947   \n",
       "1201                  106.128710                    39.528947   \n",
       "\n",
       "      Primary completion rate  Literacy rate  \n",
       "1100                95.522408      97.105964  \n",
       "1041                95.522408      97.105964  \n",
       "974                 95.522408      97.105964  \n",
       "557                 95.522408      97.105964  \n",
       "1201                95.522408      97.105964  \n",
       "\n",
       "[5 rows x 23 columns]"
      ]
     },
     "execution_count": 9,
     "metadata": {},
     "output_type": "execute_result"
    }
   ],
   "source": [
    "X_test.head()"
   ]
  },
  {
   "cell_type": "code",
   "execution_count": 10,
   "metadata": {},
   "outputs": [
    {
     "data": {
      "text/plain": [
       "1100    1.755068e+13\n",
       "1041    2.379769e+10\n",
       "974     9.325926e+08\n",
       "557     1.022171e+10\n",
       "1201    5.000622e+11\n",
       "Name: GDP in USD, dtype: float64"
      ]
     },
     "execution_count": 10,
     "metadata": {},
     "output_type": "execute_result"
    }
   ],
   "source": [
    "y_test.head()"
   ]
  },
  {
   "cell_type": "markdown",
   "metadata": {},
   "source": [
    "## Feature engineering"
   ]
  },
  {
   "cell_type": "markdown",
   "metadata": {},
   "source": [
    "We will find some good features for training"
   ]
  },
  {
   "cell_type": "markdown",
   "metadata": {},
   "source": [
    "### Model 1: using some tools"
   ]
  },
  {
   "cell_type": "markdown",
   "metadata": {},
   "source": [
    "Firstly, we will eleminate some redundant by repeated-KFold"
   ]
  },
  {
   "cell_type": "code",
   "execution_count": 11,
   "metadata": {},
   "outputs": [
    {
     "name": "stdout",
     "output_type": "stream",
     "text": [
      "Best Config for mutual: 22\n",
      "Best Config for correlation: 22\n"
     ]
    }
   ],
   "source": [
    "# YOUR CODE HERE (OPTION)\n",
    "avg_mutual = 0\n",
    "for i in range(5):\n",
    "    cv = RepeatedKFold(n_splits=10, n_repeats=3, random_state=1)\n",
    "\n",
    "    model = LinearRegression()\n",
    "    fs = SelectKBest(score_func=mutual_info_regression)\n",
    "    pipeline = Pipeline(steps=[('sel',fs), ('lr', model)])\n",
    "\n",
    "    grid = dict()\n",
    "    grid['sel__k'] = [i for i in range(X_train.shape[1]-20, X_train.shape[1]+1)]\n",
    "\n",
    "    search = GridSearchCV(pipeline, grid, scoring='neg_mean_squared_error', n_jobs=-1, cv=cv)\n",
    "\n",
    "    results = search.fit(X_train, y_train)\n",
    "\n",
    "    #print('Best MAE: %.3f' % results.best_score_)\n",
    "    best_config = results.best_params_\n",
    "    best_sel_k = best_config['sel__k']\n",
    "    avg_mutual += int(best_sel_k)\n",
    "print('Best Config for mutual: %s' % int(avg_mutual / 5))\n",
    "#############################################################\n",
    "\n",
    "avg_col = 0\n",
    "for i in range(5):\n",
    "    cv = RepeatedKFold(n_splits=10, n_repeats=3, random_state=1)\n",
    "\n",
    "    model = LinearRegression()\n",
    "    fs = SelectKBest(score_func=f_regression)\n",
    "    pipeline = Pipeline(steps=[('sel',fs), ('lr', model)])\n",
    "\n",
    "    grid = dict()\n",
    "    grid['sel__k'] = [i for i in range(X_train.shape[1]-20, X_train.shape[1]+1)]\n",
    "\n",
    "    search = GridSearchCV(pipeline, grid, scoring='neg_mean_squared_error', n_jobs=-1, cv=cv)\n",
    "\n",
    "    results = search.fit(X_train, y_train)\n",
    "\n",
    "    #print('Best MAE: %.3f' % results.best_score_)\n",
    "    best_config = results.best_params_\n",
    "    best_sel_k = best_config['sel__k']\n",
    "    avg_col += int(best_sel_k)\n",
    "print('Best Config for correlation: %s' % int(avg_col / 5))"
   ]
  },
  {
   "cell_type": "markdown",
   "metadata": {},
   "source": [
    "Secondly, we will find 03 features"
   ]
  },
  {
   "cell_type": "code",
   "execution_count": 12,
   "metadata": {},
   "outputs": [
    {
     "data": {
      "image/png": "[encoded data removed]",
      "text/plain": [
       "<Figure size 640x480 with 1 Axes>"
      ]
     },
     "metadata": {},
     "output_type": "display_data"
    }
   ],
   "source": [
    "def select_features(X_train, y_train, X_test):\n",
    "\n",
    " fs = SelectKBest(score_func=f_regression, k=int(avg_col / 5))\n",
    "\n",
    " fs.fit(X_train, y_train)\n",
    "\n",
    " X_train_fs = fs.transform(X_train)\n",
    "\n",
    " X_test_fs = fs.transform(X_test)\n",
    " return X_train_fs, X_test_fs, fs\n",
    "\n",
    "\n",
    "X_train_fs, X_test_fs, fs = select_features(X_train, y_train, X_test)\n",
    "\n",
    "feature_names = X_train.columns\n",
    "\n",
    "plt.bar(range(len(fs.scores_)), fs.scores_)\n",
    "\n",
    "plt.xticks(range(len(fs.scores_)), feature_names, rotation='vertical')\n",
    "\n",
    "plt.xlabel('Features')\n",
    "plt.ylabel('Score')\n",
    "plt.title('Feature Scores')\n",
    "\n",
    "plt.show()"
   ]
  },
  {
   "cell_type": "markdown",
   "metadata": {},
   "source": [
    "So, Agriculture value added(in USD) is the first one."
   ]
  },
  {
   "cell_type": "code",
   "execution_count": 13,
   "metadata": {},
   "outputs": [
    {
     "name": "stdout",
     "output_type": "stream",
     "text": [
      "Best Skill: Total Population\n",
      "MAE for Best Skill: 117723661645.38664\n"
     ]
    }
   ],
   "source": [
    "mae_1 = {}\n",
    "for i in X_train.columns:\n",
    "    tree = DecisionTreeRegressor(random_state=23)\n",
    "    tree.fit(X_train[[i]], y_train)\n",
    "    \n",
    "    # prediction\n",
    "    y_pred = tree.predict(X_test[[i]])\n",
    "    \n",
    "    # compute the regression evaluation metric, e.g., Mean Absolute Error (MAE)\n",
    "    mae = mean_absolute_error(y_test, y_pred)\n",
    "    \n",
    "    mae_1[i] = mae\n",
    "best_skill = min(mae_1, key=mae_1.get)\n",
    "print(f\"Best Skill: {best_skill}\")\n",
    "print(f\"MAE for Best Skill: {mae_1[best_skill]}\")\n"
   ]
  },
  {
   "cell_type": "markdown",
   "metadata": {},
   "source": [
    "Male population is the next feature."
   ]
  },
  {
   "cell_type": "code",
   "execution_count": 14,
   "metadata": {},
   "outputs": [
    {
     "data": {
      "image/png": "[encoded data removed]",
      "text/plain": [
       "<Figure size 640x480 with 1 Axes>"
      ]
     },
     "metadata": {},
     "output_type": "display_data"
    }
   ],
   "source": [
    "def select_features(X_train, y_train, X_test):\n",
    "\n",
    " fs = SelectKBest(score_func=mutual_info_regression, k=int(avg_mutual / 5))\n",
    "\n",
    " fs.fit(X_train, y_train)\n",
    "\n",
    " X_train_fs = fs.transform(X_train)\n",
    "\n",
    " X_test_fs = fs.transform(X_test)\n",
    " return X_train_fs, X_test_fs, fs\n",
    "\n",
    "\n",
    "X_train_fs, X_test_fs, fs = select_features(X_train, y_train, X_test)\n",
    "\n",
    "feature_names = X_train.columns\n",
    "\n",
    "plt.bar(range(len(fs.scores_)), fs.scores_)\n",
    "\n",
    "plt.xticks(range(len(fs.scores_)), feature_names, rotation='vertical')\n",
    "\n",
    "plt.xlabel('Features')\n",
    "plt.ylabel('Score')\n",
    "plt.title('Feature Scores')\n",
    "\n",
    "plt.show()"
   ]
  },
  {
   "cell_type": "markdown",
   "metadata": {},
   "source": [
    "Finally, Female Population is the last one."
   ]
  },
  {
   "cell_type": "markdown",
   "metadata": {},
   "source": [
    "### Model 2: We will choose some features based on the correlation in file 3.0-eda.ipynb"
   ]
  },
  {
   "cell_type": "markdown",
   "metadata": {},
   "source": [
    "Based on heatmap, we will choose Agriculture value added(in USD) and Net income from Abroad"
   ]
  },
  {
   "cell_type": "markdown",
   "metadata": {},
   "source": [
    "## Training model"
   ]
  },
  {
   "cell_type": "code",
   "execution_count": 15,
   "metadata": {},
   "outputs": [],
   "source": [
    "# YOUR CODE HERE (OPTION) \n",
    "X_final_1_train = X_train[['Agriculture value added(in USD)', 'Male Population', 'Female Population']]\n",
    "X_final_1_test = X_test[['Agriculture value added(in USD)', 'Male Population', 'Female Population']]\n",
    "\n",
    "X_final_2_train = X_train[['Agriculture value added(in USD)', 'Net income from Abroad']]\n",
    "X_final_2_test = X_test[['Agriculture value added(in USD)', 'Net income from Abroad']]"
   ]
  },
  {
   "cell_type": "code",
   "execution_count": 16,
   "metadata": {},
   "outputs": [
    {
     "data": {
      "text/html": [
       "<div>\n",
       "<style scoped>\n",
       "    .dataframe tbody tr th:only-of-type {\n",
       "        vertical-align: middle;\n",
       "    }\n",
       "\n",
       "    .dataframe tbody tr th {\n",
       "        vertical-align: top;\n",
       "    }\n",
       "\n",
       "    .dataframe thead th {\n",
       "        text-align: right;\n",
       "    }\n",
       "</style>\n",
       "<table border=\"1\" class=\"dataframe\">\n",
       "  <thead>\n",
       "    <tr style=\"text-align: right;\">\n",
       "      <th></th>\n",
       "      <th>Agriculture value added(in USD)</th>\n",
       "      <th>Male Population</th>\n",
       "      <th>Female Population</th>\n",
       "    </tr>\n",
       "  </thead>\n",
       "  <tbody>\n",
       "    <tr>\n",
       "      <th>873</th>\n",
       "      <td>1.430583e+10</td>\n",
       "      <td>15666065.0</td>\n",
       "      <td>15939421.0</td>\n",
       "    </tr>\n",
       "    <tr>\n",
       "      <th>1010</th>\n",
       "      <td>2.369055e+08</td>\n",
       "      <td>302656.0</td>\n",
       "      <td>304409.0</td>\n",
       "    </tr>\n",
       "    <tr>\n",
       "      <th>590</th>\n",
       "      <td>5.115926e+07</td>\n",
       "      <td>61916.0</td>\n",
       "      <td>61747.0</td>\n",
       "    </tr>\n",
       "    <tr>\n",
       "      <th>129</th>\n",
       "      <td>6.060000e+07</td>\n",
       "      <td>128828.0</td>\n",
       "      <td>140649.0</td>\n",
       "    </tr>\n",
       "    <tr>\n",
       "      <th>414</th>\n",
       "      <td>1.388584e+09</td>\n",
       "      <td>2002605.0</td>\n",
       "      <td>1976588.0</td>\n",
       "    </tr>\n",
       "  </tbody>\n",
       "</table>\n",
       "</div>"
      ],
      "text/plain": [
       "      Agriculture value added(in USD)  Male Population  Female Population\n",
       "873                      1.430583e+10       15666065.0         15939421.0\n",
       "1010                     2.369055e+08         302656.0           304409.0\n",
       "590                      5.115926e+07          61916.0            61747.0\n",
       "129                      6.060000e+07         128828.0           140649.0\n",
       "414                      1.388584e+09        2002605.0          1976588.0"
      ]
     },
     "execution_count": 16,
     "metadata": {},
     "output_type": "execute_result"
    }
   ],
   "source": [
    "X_final_1_train.head()"
   ]
  },
  {
   "cell_type": "code",
   "execution_count": 17,
   "metadata": {},
   "outputs": [
    {
     "data": {
      "text/html": [
       "<div>\n",
       "<style scoped>\n",
       "    .dataframe tbody tr th:only-of-type {\n",
       "        vertical-align: middle;\n",
       "    }\n",
       "\n",
       "    .dataframe tbody tr th {\n",
       "        vertical-align: top;\n",
       "    }\n",
       "\n",
       "    .dataframe thead th {\n",
       "        text-align: right;\n",
       "    }\n",
       "</style>\n",
       "<table border=\"1\" class=\"dataframe\">\n",
       "  <thead>\n",
       "    <tr style=\"text-align: right;\">\n",
       "      <th></th>\n",
       "      <th>Agriculture value added(in USD)</th>\n",
       "      <th>Net income from Abroad</th>\n",
       "    </tr>\n",
       "  </thead>\n",
       "  <tbody>\n",
       "    <tr>\n",
       "      <th>873</th>\n",
       "      <td>1.430583e+10</td>\n",
       "      <td>-9.708055e+09</td>\n",
       "    </tr>\n",
       "    <tr>\n",
       "      <th>1010</th>\n",
       "      <td>2.369055e+08</td>\n",
       "      <td>-4.657452e+08</td>\n",
       "    </tr>\n",
       "    <tr>\n",
       "      <th>590</th>\n",
       "      <td>5.115926e+07</td>\n",
       "      <td>-7.250452e+07</td>\n",
       "    </tr>\n",
       "    <tr>\n",
       "      <th>129</th>\n",
       "      <td>6.060000e+07</td>\n",
       "      <td>-1.750000e+08</td>\n",
       "    </tr>\n",
       "    <tr>\n",
       "      <th>414</th>\n",
       "      <td>1.388584e+09</td>\n",
       "      <td>-6.887646e+08</td>\n",
       "    </tr>\n",
       "  </tbody>\n",
       "</table>\n",
       "</div>"
      ],
      "text/plain": [
       "      Agriculture value added(in USD)  Net income from Abroad\n",
       "873                      1.430583e+10           -9.708055e+09\n",
       "1010                     2.369055e+08           -4.657452e+08\n",
       "590                      5.115926e+07           -7.250452e+07\n",
       "129                      6.060000e+07           -1.750000e+08\n",
       "414                      1.388584e+09           -6.887646e+08"
      ]
     },
     "execution_count": 17,
     "metadata": {},
     "output_type": "execute_result"
    }
   ],
   "source": [
    "X_final_2_train.head()"
   ]
  },
  {
   "cell_type": "markdown",
   "metadata": {},
   "source": [
    "Model 1"
   ]
  },
  {
   "cell_type": "code",
   "execution_count": 18,
   "metadata": {},
   "outputs": [
    {
     "name": "stdout",
     "output_type": "stream",
     "text": [
      "Mean of this model:  570048930834.6562\n"
     ]
    }
   ],
   "source": [
    "kf = KFold(n_splits=10, shuffle=True, random_state=42)\n",
    "\n",
    "model_ = LinearRegression()\n",
    "model_.fit(X_final_1_train, y_train)\n",
    "\n",
    "score_1 = cross_val_score(model_, X_final_1_train, y_train, scoring = \"neg_mean_absolute_error\", cv=kf)\n",
    "print(\"Mean of this model: \", mean(absolute(score_1)))"
   ]
  },
  {
   "cell_type": "markdown",
   "metadata": {},
   "source": [
    "Model 2"
   ]
  },
  {
   "cell_type": "code",
   "execution_count": 19,
   "metadata": {},
   "outputs": [
    {
     "name": "stdout",
     "output_type": "stream",
     "text": [
      "Mean of this model:  265575709180.93756\n"
     ]
    }
   ],
   "source": [
    "kf = KFold(n_splits=10, shuffle=True, random_state=42)\n",
    "\n",
    "model_ = LinearRegression()\n",
    "model_.fit(X_final_2_train, y_train)\n",
    "\n",
    "score_1 = cross_val_score(model_, X_final_2_train, y_train, scoring = \"neg_mean_absolute_error\", cv=kf)\n",
    "print(\"Mean of this model: \", mean(absolute(score_1)))"
   ]
  },
  {
   "cell_type": "markdown",
   "metadata": {},
   "source": [
    "So we will choose model 2"
   ]
  },
  {
   "cell_type": "markdown",
   "metadata": {},
   "source": [
    "## Evaluation"
   ]
  },
  {
   "cell_type": "markdown",
   "metadata": {},
   "source": [
    "Re-training"
   ]
  },
  {
   "cell_type": "code",
   "execution_count": 20,
   "metadata": {},
   "outputs": [
    {
     "name": "stdout",
     "output_type": "stream",
     "text": [
      "coef:  [53.60473212 37.96430544]\n",
      "intercept:  25955448733.0058\n"
     ]
    }
   ],
   "source": [
    "# YOUR CODE HERE (OPTION) \n",
    "model_1 = LinearRegression()\n",
    "model_1.fit(X_final_2_train, y_train)\n",
    "\n",
    "print(\"coef: \", model_1.coef_)\n",
    "print(\"intercept: \", model_1.intercept_)"
   ]
  },
  {
   "cell_type": "code",
   "execution_count": 21,
   "metadata": {},
   "outputs": [
    {
     "name": "stdout",
     "output_type": "stream",
     "text": [
      "MAE of new model:  224737464356.25165\n"
     ]
    }
   ],
   "source": [
    "score_1 = cross_val_score(model_1, X_final_2_test, y_test, scoring = \"neg_mean_absolute_error\")\n",
    "print(\"MAE of new model: \", mean(absolute(score_1)))"
   ]
  },
  {
   "cell_type": "markdown",
   "metadata": {},
   "source": [
    "## Prediction"
   ]
  },
  {
   "cell_type": "markdown",
   "metadata": {},
   "source": [
    "Thus,\n",
    "$$\\text{GDP (in USD)} = (53.60473212) * Agriculture value added(in USD) + (37.96430544) * Net income from Abroad \\\\\n",
    "+ 25955448733.0058$$\n",
    "\n",
    "==> Note that the coef and intercept may change due to the restart, this was my result."
   ]
  },
  {
   "cell_type": "code",
   "execution_count": 22,
   "metadata": {},
   "outputs": [],
   "source": [
    "# YOUR CODE HERE (OPTION) "
   ]
  },
  {
   "cell_type": "markdown",
   "metadata": {},
   "source": [
    "## Results analysis"
   ]
  },
  {
   "cell_type": "markdown",
   "metadata": {},
   "source": [
    "Here is the MAE of the whole train set, which means we include all feature to the model. It can be seen as the avg MAE."
   ]
  },
  {
   "cell_type": "code",
   "execution_count": 23,
   "metadata": {},
   "outputs": [
    {
     "name": "stdout",
     "output_type": "stream",
     "text": [
      "Mean of this model:  349249539352.2792\n"
     ]
    }
   ],
   "source": [
    "kf = KFold(n_splits=10, shuffle=True, random_state=42)\n",
    "\n",
    "model_ = LinearRegression()\n",
    "model_.fit(X_train, y_train)\n",
    "\n",
    "score_1 = cross_val_score(model_, X_train, y_train, scoring = \"neg_mean_absolute_error\", cv=kf)\n",
    "print(\"Mean of this model: \", mean(absolute(score_1)))"
   ]
  },
  {
   "cell_type": "code",
   "execution_count": 24,
   "metadata": {},
   "outputs": [
    {
     "data": {
      "text/plain": [
       "0       1.757604e+09\n",
       "1       1.560519e+09\n",
       "2       1.416348e+09\n",
       "3       1.675404e+09\n",
       "4       1.604770e+09\n",
       "            ...     \n",
       "1199    5.000622e+11\n",
       "1200    5.000622e+11\n",
       "1201    5.000622e+11\n",
       "1202    5.000622e+11\n",
       "1203    5.000622e+11\n",
       "Name: GDP in USD, Length: 1204, dtype: float64"
      ]
     },
     "execution_count": 24,
     "metadata": {},
     "output_type": "execute_result"
    }
   ],
   "source": [
    "# YOUR CODE HERE (OPTION) \n",
    "y"
   ]
  },
  {
   "cell_type": "markdown",
   "metadata": {},
   "source": [
    "Here, as we can see, MAE of this model is less than MAE of whole feature."
   ]
  },
  {
   "cell_type": "markdown",
   "metadata": {},
   "source": [
    "## Conclusion"
   ]
  },
  {
   "cell_type": "markdown",
   "metadata": {},
   "source": [
    "**Your conclusion**"
   ]
  },
  {
   "cell_type": "markdown",
   "metadata": {},
   "source": [
    "- We can combine various feature for training our model to predict a specific feature.\n",
    "- By sorting feature's correlation, we can choose some weighty feature, thus, our precise is higher.\n",
    "- There are many ways to combine features, such as square a feature, minute or sum a group of features, etc.\n",
    "- Features choosing from numerous tools have MAE much more higher than in that of correlation simply because the features in this set did not aim to describe GDP, which means they are not complete related to GDP. Therefore, although some \"Population\" features show that it have a huge impact on our goal, it is NOT related that much."
   ]
  }
 ],
 "metadata": {
  "kernelspec": {
   "display_name": "min_ds-env",
   "language": "python",
   "name": "python3"
  },
  "language_info": {
   "codemirror_mode": {
    "name": "ipython",
    "version": 3
   },
   "file_extension": ".py",
   "mimetype": "text/x-python",
   "name": "python",
   "nbconvert_exporter": "python",
   "pygments_lexer": "ipython3",
   "version": "3.9.18"
  }
 },
 "nbformat": 4,
 "nbformat_minor": 2
}
